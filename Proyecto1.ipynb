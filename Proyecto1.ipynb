{
 "cells": [
  {
   "cell_type": "markdown",
   "metadata": {},
   "source": [
    "# Predicción de los costos de Casas\n",
    "## Joaquín Antonio Ramírez Hernández"
   ]
  },
  {
   "cell_type": "code",
   "execution_count": 329,
   "metadata": {},
   "outputs": [],
   "source": [
    "from scipy import stats\n",
    "import numpy as np\n",
    "import pandas as pd \n",
    "import matplotlib\n",
    "import matplotlib.pyplot as plt\n",
    "import math\n",
    "from sklearn.linear_model import Lasso \n",
    "from sklearn.linear_model import Ridge\n",
    "from sklearn.linear_model import LinearRegression\n",
    "from sklearn import preprocessing \n",
    "import seaborn as sns\n",
    "import matplotlib.pyplot as plt"
   ]
  },
  {
   "cell_type": "markdown",
   "metadata": {},
   "source": [
    "## 1.-Lectura y traducción de datos"
   ]
  },
  {
   "cell_type": "markdown",
   "metadata": {},
   "source": [
    "### Datos de Training"
   ]
  },
  {
   "cell_type": "markdown",
   "metadata": {},
   "source": [
    "En esta sección leo y guardo los datos que voy a tener del training para tratar de predecir los costos de las casas en esa unidad. Para esto, todas las variables categóricas que tenía las convierto en enteros para poderlas manejar, decidí no hacerlas dummies por el momento para comparar las soluciones ya presentadas. Además, cambié los valores faltantes por los promedios de su respectiva columna y observo con las dos últimas líneas que no haya ya datos faltantes y que se hayan asignado de manera adecuada los valores asignados."
   ]
  },
  {
   "cell_type": "code",
   "execution_count": 330,
   "metadata": {},
   "outputs": [
    {
     "name": "stdout",
     "output_type": "stream",
     "text": [
      "<class 'pandas.core.frame.DataFrame'>\n",
      "Int64Index: 1459 entries, 0 to 1458\n",
      "Data columns (total 80 columns):\n",
      "MSSubClass       1459 non-null int64\n",
      "MSZoning         1459 non-null int64\n",
      "LotFrontage      1459 non-null float64\n",
      "LotArea          1459 non-null int64\n",
      "Street           1459 non-null int64\n",
      "Alley            1459 non-null float64\n",
      "LotShape         1459 non-null int64\n",
      "LandContour      1459 non-null int64\n",
      "Utilities        1459 non-null object\n",
      "LotConfig        1459 non-null int64\n",
      "LandSlope        1459 non-null int64\n",
      "Neighborhood     1459 non-null int64\n",
      "Condition1       1459 non-null int64\n",
      "Condition2       1459 non-null int64\n",
      "BldgType         1459 non-null object\n",
      "HouseStyle       1459 non-null int64\n",
      "OverallQual      1459 non-null int64\n",
      "OverallCond      1459 non-null int64\n",
      "YearBuilt        1459 non-null int64\n",
      "YearRemodAdd     1459 non-null int64\n",
      "RoofStyle        1459 non-null int64\n",
      "RoofMatl         1459 non-null int64\n",
      "Exterior1st      1459 non-null int64\n",
      "Exterior2nd      1459 non-null object\n",
      "MasVnrType       1459 non-null float64\n",
      "MasVnrArea       1459 non-null float64\n",
      "ExterQual        1459 non-null object\n",
      "ExterCond        1459 non-null int64\n",
      "Foundation       1459 non-null int64\n",
      "BsmtQual         1459 non-null int64\n",
      "BsmtCond         1459 non-null float64\n",
      "BsmtExposure     1459 non-null float64\n",
      "BsmtFinType1     1459 non-null float64\n",
      "BsmtFinSF1       1459 non-null int64\n",
      "BsmtFinType2     1459 non-null float64\n",
      "BsmtFinSF2       1459 non-null int64\n",
      "BsmtUnfSF        1459 non-null int64\n",
      "TotalBsmtSF      1459 non-null int64\n",
      "Heating          1459 non-null int64\n",
      "HeatingQC        1459 non-null int64\n",
      "CentralAir       1459 non-null int64\n",
      "Electrical       1459 non-null float64\n",
      "stFlrSF          1459 non-null int64\n",
      "ndFlrSF          1459 non-null int64\n",
      "LowQualFinSF     1459 non-null int64\n",
      "GrLivArea        1459 non-null int64\n",
      "BsmtFullBath     1459 non-null int64\n",
      "BsmtHalfBath     1459 non-null int64\n",
      "FullBath         1459 non-null int64\n",
      "HalfBath         1459 non-null int64\n",
      "BedroomAbvGr     1459 non-null int64\n",
      "KitchenAbvGr     1459 non-null int64\n",
      "KitchenQual      1459 non-null object\n",
      "TotRmsAbvGrd     1459 non-null int64\n",
      "Functional       1459 non-null object\n",
      "Fireplaces       1459 non-null int64\n",
      "FireplaceQu      1459 non-null float64\n",
      "GarageType       1459 non-null float64\n",
      "GarageYrBlt      1459 non-null float64\n",
      "GarageFinish     1459 non-null float64\n",
      "GarageCars       1459 non-null int64\n",
      "GarageArea       1459 non-null int64\n",
      "GarageQual       1459 non-null float64\n",
      "GarageCond       1459 non-null float64\n",
      "PavedDrive       1459 non-null int64\n",
      "WoodDeckSF       1459 non-null int64\n",
      "OpenPorchSF      1459 non-null int64\n",
      "EnclosedPorch    1459 non-null int64\n",
      "3SsnPorch        1459 non-null int64\n",
      "ScreenPorch      1459 non-null int64\n",
      "PoolArea         1459 non-null int64\n",
      "PoolQC           1459 non-null float64\n",
      "Fence            1459 non-null float64\n",
      "MiscFeature      1459 non-null float64\n",
      "MiscVal          1459 non-null int64\n",
      "MoSold           1459 non-null int64\n",
      "YrSold           1459 non-null int64\n",
      "SaleType         1459 non-null int64\n",
      "SaleCondition    1459 non-null int64\n",
      "SalePrice        1459 non-null int64\n",
      "dtypes: float64(18), int64(56), object(6)\n",
      "memory usage: 923.3+ KB\n"
     ]
    },
    {
     "data": {
      "text/html": [
       "<div>\n",
       "<style scoped>\n",
       "    .dataframe tbody tr th:only-of-type {\n",
       "        vertical-align: middle;\n",
       "    }\n",
       "\n",
       "    .dataframe tbody tr th {\n",
       "        vertical-align: top;\n",
       "    }\n",
       "\n",
       "    .dataframe thead th {\n",
       "        text-align: right;\n",
       "    }\n",
       "</style>\n",
       "<table border=\"1\" class=\"dataframe\">\n",
       "  <thead>\n",
       "    <tr style=\"text-align: right;\">\n",
       "      <th></th>\n",
       "      <th>MSSubClass</th>\n",
       "      <th>MSZoning</th>\n",
       "      <th>LotFrontage</th>\n",
       "      <th>LotArea</th>\n",
       "      <th>Street</th>\n",
       "      <th>Alley</th>\n",
       "      <th>LotShape</th>\n",
       "      <th>LandContour</th>\n",
       "      <th>Utilities</th>\n",
       "      <th>LotConfig</th>\n",
       "      <th>...</th>\n",
       "      <th>PoolArea</th>\n",
       "      <th>PoolQC</th>\n",
       "      <th>Fence</th>\n",
       "      <th>MiscFeature</th>\n",
       "      <th>MiscVal</th>\n",
       "      <th>MoSold</th>\n",
       "      <th>YrSold</th>\n",
       "      <th>SaleType</th>\n",
       "      <th>SaleCondition</th>\n",
       "      <th>SalePrice</th>\n",
       "    </tr>\n",
       "  </thead>\n",
       "  <tbody>\n",
       "    <tr>\n",
       "      <th>0</th>\n",
       "      <td>60</td>\n",
       "      <td>6</td>\n",
       "      <td>65.0</td>\n",
       "      <td>8450</td>\n",
       "      <td>2</td>\n",
       "      <td>3.0</td>\n",
       "      <td>1</td>\n",
       "      <td>1</td>\n",
       "      <td>1</td>\n",
       "      <td>1</td>\n",
       "      <td>...</td>\n",
       "      <td>0</td>\n",
       "      <td>5.0</td>\n",
       "      <td>5.0</td>\n",
       "      <td>6.0</td>\n",
       "      <td>0</td>\n",
       "      <td>2</td>\n",
       "      <td>2008</td>\n",
       "      <td>1</td>\n",
       "      <td>1</td>\n",
       "      <td>208500</td>\n",
       "    </tr>\n",
       "    <tr>\n",
       "      <th>1</th>\n",
       "      <td>20</td>\n",
       "      <td>6</td>\n",
       "      <td>80.0</td>\n",
       "      <td>9600</td>\n",
       "      <td>2</td>\n",
       "      <td>3.0</td>\n",
       "      <td>1</td>\n",
       "      <td>1</td>\n",
       "      <td>1</td>\n",
       "      <td>4</td>\n",
       "      <td>...</td>\n",
       "      <td>0</td>\n",
       "      <td>5.0</td>\n",
       "      <td>5.0</td>\n",
       "      <td>6.0</td>\n",
       "      <td>0</td>\n",
       "      <td>5</td>\n",
       "      <td>2007</td>\n",
       "      <td>1</td>\n",
       "      <td>1</td>\n",
       "      <td>181500</td>\n",
       "    </tr>\n",
       "    <tr>\n",
       "      <th>2</th>\n",
       "      <td>60</td>\n",
       "      <td>6</td>\n",
       "      <td>68.0</td>\n",
       "      <td>11250</td>\n",
       "      <td>2</td>\n",
       "      <td>3.0</td>\n",
       "      <td>2</td>\n",
       "      <td>1</td>\n",
       "      <td>1</td>\n",
       "      <td>1</td>\n",
       "      <td>...</td>\n",
       "      <td>0</td>\n",
       "      <td>5.0</td>\n",
       "      <td>5.0</td>\n",
       "      <td>6.0</td>\n",
       "      <td>0</td>\n",
       "      <td>9</td>\n",
       "      <td>2008</td>\n",
       "      <td>1</td>\n",
       "      <td>1</td>\n",
       "      <td>223500</td>\n",
       "    </tr>\n",
       "    <tr>\n",
       "      <th>3</th>\n",
       "      <td>70</td>\n",
       "      <td>6</td>\n",
       "      <td>60.0</td>\n",
       "      <td>9550</td>\n",
       "      <td>2</td>\n",
       "      <td>3.0</td>\n",
       "      <td>2</td>\n",
       "      <td>1</td>\n",
       "      <td>1</td>\n",
       "      <td>2</td>\n",
       "      <td>...</td>\n",
       "      <td>0</td>\n",
       "      <td>5.0</td>\n",
       "      <td>5.0</td>\n",
       "      <td>6.0</td>\n",
       "      <td>0</td>\n",
       "      <td>2</td>\n",
       "      <td>2006</td>\n",
       "      <td>1</td>\n",
       "      <td>2</td>\n",
       "      <td>140000</td>\n",
       "    </tr>\n",
       "    <tr>\n",
       "      <th>4</th>\n",
       "      <td>60</td>\n",
       "      <td>6</td>\n",
       "      <td>84.0</td>\n",
       "      <td>14260</td>\n",
       "      <td>2</td>\n",
       "      <td>3.0</td>\n",
       "      <td>2</td>\n",
       "      <td>1</td>\n",
       "      <td>1</td>\n",
       "      <td>4</td>\n",
       "      <td>...</td>\n",
       "      <td>0</td>\n",
       "      <td>5.0</td>\n",
       "      <td>5.0</td>\n",
       "      <td>6.0</td>\n",
       "      <td>0</td>\n",
       "      <td>12</td>\n",
       "      <td>2008</td>\n",
       "      <td>1</td>\n",
       "      <td>1</td>\n",
       "      <td>250000</td>\n",
       "    </tr>\n",
       "  </tbody>\n",
       "</table>\n",
       "<p>5 rows × 80 columns</p>\n",
       "</div>"
      ],
      "text/plain": [
       "   MSSubClass  MSZoning  LotFrontage  LotArea  Street  Alley  LotShape  \\\n",
       "0          60         6         65.0     8450       2    3.0         1   \n",
       "1          20         6         80.0     9600       2    3.0         1   \n",
       "2          60         6         68.0    11250       2    3.0         2   \n",
       "3          70         6         60.0     9550       2    3.0         2   \n",
       "4          60         6         84.0    14260       2    3.0         2   \n",
       "\n",
       "   LandContour Utilities  LotConfig  ...  PoolArea  PoolQC  Fence  \\\n",
       "0            1         1          1  ...         0     5.0    5.0   \n",
       "1            1         1          4  ...         0     5.0    5.0   \n",
       "2            1         1          1  ...         0     5.0    5.0   \n",
       "3            1         1          2  ...         0     5.0    5.0   \n",
       "4            1         1          4  ...         0     5.0    5.0   \n",
       "\n",
       "   MiscFeature MiscVal  MoSold  YrSold  SaleType  SaleCondition  SalePrice  \n",
       "0          6.0       0       2    2008         1              1     208500  \n",
       "1          6.0       0       5    2007         1              1     181500  \n",
       "2          6.0       0       9    2008         1              1     223500  \n",
       "3          6.0       0       2    2006         1              2     140000  \n",
       "4          6.0       0      12    2008         1              1     250000  \n",
       "\n",
       "[5 rows x 80 columns]"
      ]
     },
     "execution_count": 330,
     "metadata": {},
     "output_type": "execute_result"
    }
   ],
   "source": [
    "train1 = pd.read_csv(\"./house-prices-advanced-regression-techniques/train.csv\")\n",
    "train1 = train1.drop('Id', axis=1)\n",
    "train1.rename(columns={'1stFlrSF': 'stFlrSF','2ndFlrSF':'ndFlrSF'}, inplace=True)\n",
    "train1['MSZoning'] = train1['MSZoning'].replace({'A': 1,'C (all)': 2, 'FV': 3, 'I': 4,'RH': 5,'RL': 6,'RP': 7,'RM': 8})\n",
    "train1['Street'] = train1['Street'].replace({'Grvl':1,'Pave':2})\n",
    "train1['Alley'] = train1['Alley'].replace({'Grvl':1,'Pave':2})\n",
    "train1['Alley'] = train1['Alley'].replace(np.nan,3)\n",
    "train1['LotShape'] = train1['LotShape'].replace({ 'Reg':1, 'IR1':2, 'IR2':3,'IR3':4})\n",
    "train1['LandContour'] = train1['LandContour'].replace({'Lvl':1, 'Bnk':2, 'HLS':3, 'Low':4})\n",
    "train1['Utilities'] = train1['Utilities'].replace({'AllPub':1, 'NoSewr':2, 'NoSeWa':3, 'ELO':4})\n",
    "train1['LotConfig'] = train1['LotConfig'].replace({'Inside':1 , 'Corner':2, 'CulDSac':3, 'FR2': 4,'FR3':5})\n",
    "train1['LandSlope'] = train1['LandSlope'].replace({'Gtl':1, 'Mod':2, 'Sev':3,})\n",
    "train1['Neighborhood'] = train1['Neighborhood'].replace({'Blmngtn':1, 'Blueste':2, 'BrDale':3, 'BrkSide':4,'ClearCr':5, 'CollgCr':6, 'Crawfor':7,'Edwards':8,'Gilbert':9,'IDOTRR':10, 'MeadowV':11,\t'Mitchel':12, 'Names':13, 'NAmes':13, 'NoRidge':14, 'NPkVill':15, 'NridgHt':16, 'NWAmes':17, 'OldTown':18, 'SWISU':19, 'Sawyer':20, 'SawyerW':21, 'Somerst':22,'StoneBr':23, 'Timber':24, 'Veenker':25})\n",
    "train1['Condition1'] = train1['Condition1'].replace({'Artery':1,'Feedr':2, 'Norm':3, 'RRNn':4, 'RRAn':5, 'PosN':6,'PosA':7, 'RRNe':8, 'RRAe':9})\n",
    "train1['BldgType'] = train1['BldgType'].replace({'1Fam':1,'2FmCon':2, '2fmCon':2, 'Duplx':3, 'Duplex':3, 'TwnhsE':4, 'Twnhs':0, 'TwnhsI':5 })\n",
    "train1['Condition2'] = train1['Condition2'].replace({'Artery':1,'Feedr':2, 'Norm':3, 'RRNn':4, 'RRAn':5, 'PosN':6, 'PosA' : 7, 'RRNe':8, 'RRAe':9})\n",
    "train1['HouseStyle'] = train1['HouseStyle'].replace({'1Story':1,'1.5Fin': 2, '1.5Unf': 3, '2Story': 4,'2.5Fin': 5, '2.5Unf':6, 'SFoyer': 7, 'SLvl':8})\n",
    "train1['RoofStyle'] = train1['RoofStyle'].replace({'Flat':1,'Gable':2, 'Gambrel':3, 'Hip':4, 'Mansard':5, 'Shed':6})\n",
    "train1['RoofMatl'] = train1['RoofMatl'].replace({'ClyTile':1,'CompShg':2, 'Membran':3, 'Metal':4, 'Roll':5, 'Tar&Grv':6,'WdShake':7,'WdShngl':8})\n",
    "train1['Exterior1st'] = train1['Exterior1st'].replace({'AsbShng':1,'AsphShn':2, 'BrkComm':3, 'BrkFace':4, 'CBlock':5, 'CemntBd':6,'HdBoard':7,'ImStucc':8,'MetalSd':9,'Other':10, 'Plywood':11, 'PreCast':12,'Stone':13, 'Stucco':14, 'VinylSd':15, 'Wd Sdng':16, 'Wd Shng': 17, 'WdShing':17})\n",
    "train1['Exterior2nd'] = train1['Exterior2nd'].replace({'AsbShng':1,'AsphShn':2, 'BrkComm':3, 'Brk Cmn': 3, 'BrkFace':4, 'CBlock':5, 'CemntBd':6,'CmentBd':6 ,'HdBoard':7,'ImStucc':8,'MetalSd':9,'Other':10, 'Plywood':11, 'PreCast':12,'Stone':13, 'Stucco':14, 'VinylSd':15, 'Wd Sdng':16,'Wd Shng':17 , 'WdShing':17})\n",
    "train1['MasVnrType'] = train1['MasVnrType'].replace({'BrkCmn':1,'BrkFace':2,'CBlock':3, 'None':4,'Stone':5})\n",
    "train1['ExterQual'] = train1['ExterQual'].replace({'Ex':1,'Gd':2,'TA':3, 'Fa': 4, 'Po':5})\n",
    "train1['ExterCond'] = train1['ExterCond'].replace({'Ex':1,'Gd':2,'TA':3, 'Fa': 4, 'Po':5})\n",
    "train1['Foundation'] = train1['Foundation'].replace({'BrkTil':1, 'PConc':2, 'Slab':3, 'Wood':4, 'CBlock': 5, 'Stone': 6})\n",
    "train1['BsmtQual'] = train1['BsmtQual'].replace({'Ex':1,'Gd':2,'TA':3, 'Fa': 4, 'Po':5})\n",
    "train1['BsmtQual'] = train1['BsmtQual'].replace(np.nan,3)\n",
    "train1['BsmtCond'] = train1['BsmtCond'].replace({'Ex':1,'Gd':2,'TA':3, 'Fa': 4, 'Po':5})\n",
    "train1['BsmtCond'] = train1['BsmtCond'].replace(np.nan,6)\n",
    "train1['BsmtExposure'] = train1['BsmtExposure'].replace({'Gd':1,'Av':2, 'Mn':3, 'No':4})\n",
    "train1['BsmtExposure'] = train1['BsmtExposure'].replace(np.nan,5)\n",
    "train1['BsmtFinType1'] = train1['BsmtFinType1'].replace({'GLQ':1,'ALQ':2,'BLQ':3, 'Rec':4,'LwQ':5, 'Unf':6})\n",
    "train1['BsmtFinType1'] = train1['BsmtFinType1'].replace(np.nan,7)\n",
    "train1['BsmtFinType2'] = train1['BsmtFinType2'].replace({'GLQ':1,'ALQ':2,'BLQ':3, 'Rec':4,'LwQ':5, 'Unf':6})\n",
    "train1['BsmtFinType2'] = train1['BsmtFinType2'].replace(np.nan,7)\n",
    "train1['Heating'] = train1['Heating'].replace({'Floor':1,'GasA':2, 'GasW':3, 'Grav':4, 'OthW':5, 'Wall':6})\n",
    "train1['HeatingQC'] = train1['HeatingQC'].replace({'Ex':1,'Gd':2,'TA':3, 'Fa': 4, 'Po':5})\n",
    "train1['CentralAir'] = train1['CentralAir'].replace({'N':1, 'Y':2})\n",
    "train1['Electrical'] = train1['Electrical'].replace({'SBrkr':1,'FuseA':2,'FuseF':3, 'FuseP':4,'Mix':5})\n",
    "train1['KitchenQual'] = train1['KitchenQual'].replace({'Ex':1,'Gd':2,'TA':3, 'Fa': 4, 'Po':5})\n",
    "train1['Functional'] = train1['Functional'].replace({'Typ':1,'Min1':2, 'Min2': 3 , 'Mod': 4, 'Maj1': 5, 'Maj2': 6, 'Sev': 7, 'Sal':8})\n",
    "train1['FireplaceQu'] = train1['FireplaceQu'].replace({'Ex':1,'Gd':2,'TA':3, 'Fa': 4, 'Po':5})\n",
    "train1['FireplaceQu'] = train1['FireplaceQu'].replace(np.nan,6)\n",
    "train1['GarageType'] = train1['GarageType'].replace({'2Types':1, 'Attchd':2, 'Basment':3, 'BuiltIn' : 4, 'CarPort': 5, 'Detchd':6})\n",
    "train1['GarageType'] = train1['GarageType'].replace(np.nan,7)\n",
    "train1['GarageQual'] = train1['GarageQual'].replace({'Ex':1,'Gd':2,'TA':3, 'Fa': 4, 'Po':5})\n",
    "train1['GarageQual'] = train1['GarageQual'].replace(np.nan,6)\n",
    "train1['GarageFinish'] = train1['GarageFinish'].replace({'Fin':1, 'RFn': 2, 'Unf':3})\n",
    "train1['GarageFinish'] = train1['GarageFinish'].replace(np.nan,4)\n",
    "train1['GarageCond'] = train1['GarageCond'].replace({'Ex':1,'Gd':2,'TA':3, 'Fa': 4, 'Po':5})\n",
    "train1['GarageCond'] = train1['GarageCond'].replace(np.nan,6)\n",
    "train1['PavedDrive'] = train1['PavedDrive'].replace({'Y':1, 'P':2, 'N':3})\n",
    "train1['PoolQC'] = train1['PoolQC'].replace({'Ex':1,'Gd':2,'TA':3, 'Fa': 4})\n",
    "train1['PoolQC'] = train1['PoolQC'].replace(np.nan,5)\n",
    "train1['Fence'] = train1['Fence'].replace({'GdPrv':1,'MnPrv':2,'GdWo':3, 'MnWw':4})\n",
    "train1['Fence'] = train1['Fence'].replace(np.nan,5)\n",
    "train1['MiscFeature'] = train1['MiscFeature'].replace({'Elev':1, 'Gar2':2, 'Othr':3, 'Shed':4,'TenC':5})\n",
    "train1['MiscFeature'] = train1['MiscFeature'].replace(np.nan,6)\n",
    "train1['SaleType'] = train1['SaleType'].replace({ 'WD':1, 'CWD':2, 'VWD':3, 'New':4, 'COD':5, 'Con':5,'ConLw':6, 'ConLI':7, 'ConLD':8,'Oth':9})\n",
    "train1['SaleCondition'] = train1['SaleCondition'].replace({'Normal':1, 'Abnorml':2, 'AdjLand':3, 'Alloca':4, 'Family':5, 'Partial':6})\n",
    "train1['MasVnrType']=train1['MasVnrType'].replace(np.nan,train1['MasVnrType'].mean())\n",
    "train1['MasVnrArea']=train1['MasVnrArea'].replace(np.nan,train1['MasVnrArea'].mean())\n",
    "train1['Electrical']=train1['Electrical'].replace(np.nan,train1['Electrical'].mean())\n",
    "train1['LotFrontage']=train1['LotFrontage'].replace(np.nan,train1['LotFrontage'].mean())\n",
    "train1['GarageYrBlt']=train1['GarageYrBlt'].replace(np.nan,train1['GarageYrBlt'].mean())\n",
    "train1 = train1.drop([1459],axis=0)\n",
    "train1.info()\n",
    "train1.head()"
   ]
  },
  {
   "cell_type": "markdown",
   "metadata": {},
   "source": [
    "Con el siguiente codigo, calculo la matriz de correlaciones, después, creo un nuevo DataFrame en donde cada columna va a contener las correlaciones que hay entre si. Como solo quiero considerar las correlaciones en los precios de venta, solo me fijo en la columna SalePrice, después la ordeno y finalmente me fijo en los datos o columnas que tengan una correlación mayor a 0.50"
   ]
  },
  {
   "cell_type": "code",
   "execution_count": 331,
   "metadata": {},
   "outputs": [
    {
     "name": "stdout",
     "output_type": "stream",
     "text": [
      "BsmtQual       -0.650092\n",
      "GarageFinish   -0.550086\n",
      "FireplaceQu    -0.520360\n",
      "YearRemodAdd    0.507015\n",
      "YearBuilt       0.522877\n",
      "TotRmsAbvGrd    0.533682\n",
      "FullBath        0.560604\n",
      "stFlrSF         0.605971\n",
      "TotalBsmtSF     0.613792\n",
      "GarageArea      0.623385\n",
      "GarageCars      0.640383\n",
      "GrLivArea       0.708584\n",
      "OverallQual     0.790972\n",
      "SalePrice       1.000000\n",
      "dtype: float64\n"
     ]
    }
   ],
   "source": [
    "x = train1.values \n",
    "correlation_mat = train1.corr()\n",
    "correlation_mat\n",
    "corr_pairs = correlation_mat.unstack()\n",
    "sorted_pairs = corr_pairs['SalePrice'].sort_values(kind=\"quicksort\")\n",
    "strong_pairs = sorted_pairs[abs(sorted_pairs) >  0.50]\n",
    "print(strong_pairs)"
   ]
  },
  {
   "cell_type": "markdown",
   "metadata": {},
   "source": [
    "Con esto me percato que BsmtQual, GarageFinish, FireplaceQu, YearRemodAdd, YearBuilt, TotRmsAbvGrd, FullBath, stFlrSF, TotalBsmtSF, GarageArea, GarageCars, GrLivArea, OverallQual son los datos que tienen mayor correlación con el precio de venta."
   ]
  },
  {
   "cell_type": "code",
   "execution_count": 334,
   "metadata": {},
   "outputs": [],
   "source": [
    "train2 = pd.DataFrame({'BsmtQual' : train1['BsmtQual'],'GarageArea':train1['GarageArea'],'stFlrSF':train1['stFlrSF'],'FullBath':train1['FullBath'],'TotRmsAbvGrd':train1['TotRmsAbvGrd'],'YearBuilt':train1['YearBuilt'],'YearRemodAdd':train1['YearRemodAdd'], 'GarageFinish': train1['GarageFinish'],'FireplaceQu': train1['FireplaceQu'], 'GarageCars' : train1['GarageCars'],'GrLivArea' : train1['GrLivArea'],'OverallQual' : train1['OverallQual'],'TotalBsmtSF':train1['TotalBsmtSF']})"
   ]
  },
  {
   "cell_type": "markdown",
   "metadata": {},
   "source": [
    "## Ajuste lineal"
   ]
  },
  {
   "cell_type": "code",
   "execution_count": 335,
   "metadata": {},
   "outputs": [
    {
     "data": {
      "image/png": "[encoded data removed]",
      "text/plain": [
       "<Figure size 432x288 with 1 Axes>"
      ]
     },
     "metadata": {
      "needs_background": "light"
     },
     "output_type": "display_data"
    },
    {
     "data": {
      "text/plain": [
       "array([207716.64797494, 180385.54369043, 221977.53365539, ...,\n",
       "       235247.08359384, 224074.98647249, 119198.01530728])"
      ]
     },
     "execution_count": 335,
     "metadata": {},
     "output_type": "execute_result"
    }
   ],
   "source": [
    "lineal = LinearRegression(normalize=False)\n",
    "lineal = lineal.fit(train2,train1['SalePrice'])\n",
    "fig,ax = plt.subplots()\n",
    "ax.scatter(train1['SalePrice'], lineal.predict(train2))\n",
    "plt.xlabel('SalePrice')\n",
    "plt.ylabel('Predicción de SalePrice')\n",
    "plt.show()\n",
    "plt.xticks\n",
    "lineal.predict(train2)"
   ]
  },
  {
   "cell_type": "markdown",
   "metadata": {},
   "source": [
    "## Ajuste Lasso"
   ]
  },
  {
   "cell_type": "code",
   "execution_count": 336,
   "metadata": {},
   "outputs": [
    {
     "data": {
      "text/plain": [
       "array([-1.69301918e+04,  2.48969501e+01,  1.25378412e+01, -5.71346030e+03,\n",
       "        6.18297081e+02,  6.97420184e+01,  2.54667284e+02, -2.12820078e+03,\n",
       "       -3.05541666e+03,  6.44563268e+03,  4.51409205e+01,  1.59488024e+04,\n",
       "        1.78121572e+01])"
      ]
     },
     "execution_count": 336,
     "metadata": {},
     "output_type": "execute_result"
    }
   ],
   "source": [
    "lasso_model = Lasso(alpha=2.5,normalize=True, max_iter=1e6)\n",
    "lasso_model.fit(train2,train1['SalePrice'])\n",
    "lasso_model.coef_"
   ]
  },
  {
   "cell_type": "code",
   "execution_count": 337,
   "metadata": {},
   "outputs": [
    {
     "data": {
      "image/png": "[encoded data removed]",
      "text/plain": [
       "<Figure size 432x288 with 1 Axes>"
      ]
     },
     "metadata": {
      "needs_background": "light"
     },
     "output_type": "display_data"
    },
    {
     "data": {
      "text/plain": [
       "array([207647.08467203, 180776.922234  , 222049.51602697, ...,\n",
       "       235223.26774135, 224055.4651118 , 119165.40288001])"
      ]
     },
     "execution_count": 337,
     "metadata": {},
     "output_type": "execute_result"
    }
   ],
   "source": [
    "fig,ax = plt.subplots()\n",
    "ax.scatter(train1['SalePrice'], lasso_model.predict(train2))\n",
    "plt.xlabel('SalePrice')\n",
    "plt.ylabel('Predicción de SalePrice')\n",
    "plt.show()\n",
    "plt.xticks\n",
    "lasso_model.predict(train2)"
   ]
  },
  {
   "cell_type": "markdown",
   "metadata": {},
   "source": [
    "## Ajuste Rigid"
   ]
  },
  {
   "cell_type": "code",
   "execution_count": 338,
   "metadata": {},
   "outputs": [
    {
     "data": {
      "text/plain": [
       "array([-1.68004362e+04,  2.51311080e+01,  1.25817220e+01, -6.33640251e+03,\n",
       "        6.98155122e+02,  7.68269302e+01,  2.59746195e+02, -2.15084643e+03,\n",
       "       -3.07896597e+03,  6.38403533e+03,  4.54279120e+01,  1.59080540e+04,\n",
       "        1.78504305e+01])"
      ]
     },
     "execution_count": 338,
     "metadata": {},
     "output_type": "execute_result"
    }
   ],
   "source": [
    "ridge_model = Ridge(alpha=3)\n",
    "ridge_model.fit(train2,train1['SalePrice'])\n",
    "ridge_model.coef_"
   ]
  },
  {
   "cell_type": "code",
   "execution_count": 364,
   "metadata": {},
   "outputs": [
    {
     "data": {
      "image/png": "[encoded data removed]",
      "text/plain": [
       "<Figure size 432x288 with 1 Axes>"
      ]
     },
     "metadata": {
      "needs_background": "light"
     },
     "output_type": "display_data"
    },
    {
     "data": {
      "text/plain": [
       "array([207719.77975021, 180357.05088624, 222055.01291816, ...,\n",
       "       235224.1457714 , 224206.93189584, 119225.35656087])"
      ]
     },
     "execution_count": 364,
     "metadata": {},
     "output_type": "execute_result"
    }
   ],
   "source": [
    "fig,ax = plt.subplots()\n",
    "ax.scatter(train1['SalePrice'], ridge_model.predict(train2))\n",
    "plt.xlabel('SalePrice')\n",
    "plt.ylabel('Predicción de SalePrice')\n",
    "plt.show()\n",
    "plt.xticks\n",
    "ridge_model.predict(train2)"
   ]
  },
  {
   "cell_type": "markdown",
   "metadata": {},
   "source": [
    "### Datos de Testing"
   ]
  },
  {
   "cell_type": "markdown",
   "metadata": {},
   "source": [
    "En esta sección, nuevamente se vuelve a limpiar la base de datos de testing"
   ]
  },
  {
   "cell_type": "code",
   "execution_count": 358,
   "metadata": {},
   "outputs": [],
   "source": [
    "test1 = pd.read_csv(\"./house-prices-advanced-regression-techniques/test.csv\")\n",
    "test1 = test1.drop('Id', axis=1)\n",
    "test1.rename(columns={'1stFlrSF': 'stFlrSF','2ndFlrSF':'ndFlrSF'}, inplace=True)\n",
    "test1['MSZoning'] = test1['MSZoning'].replace({'A': 1,'C (all)': 2, 'FV': 3, 'I': 4,'RH': 5,'RL': 6,'RP': 7,'RM': 8})\n",
    "test1['Street'] = test1['Street'].replace({'Grvl':1,'Pave':2})\n",
    "test1['Alley'] = test1['Alley'].replace({'Grvl':1,'Pave':2})\n",
    "test1['Alley'] = test1['Alley'].replace(np.nan,3)\n",
    "test1['LotShape'] = test1['LotShape'].replace({ 'Reg':1, 'IR1':2, 'IR2':3,'IR3':4})\n",
    "test1['LandContour'] = test1['LandContour'].replace({'Lvl':1, 'Bnk':2, 'HLS':3, 'Low':4})\n",
    "test1['Utilities'] = test1['Utilities'].replace({'AllPub':1, 'NoSewr':2, 'NoSeWa':3, 'ELO':4})\n",
    "test1['LotConfig'] = test1['LotConfig'].replace({'Inside':1 , 'Corner':2, 'CulDSac':3, 'FR2': 4,'FR3':5})\n",
    "test1['LandSlope'] = test1['LandSlope'].replace({'Gtl':1, 'Mod':2, 'Sev':3,})\n",
    "test1['Neighborhood'] = test1['Neighborhood'].replace({'Blmngtn':1, 'Blueste':2, 'BrDale':3, 'BrkSide':4,'ClearCr':5, 'CollgCr':6, 'Crawfor':7,'Edwards':8,'Gilbert':9,'IDOTRR':10, 'MeadowV':11,\t'Mitchel':12, 'Names':13, 'NAmes':13, 'NoRidge':14, 'NPkVill':15, 'NridgHt':16, 'NWAmes':17, 'OldTown':18, 'SWISU':19, 'Sawyer':20, 'SawyerW':21, 'Somerst':22,'StoneBr':23, 'Timber':24, 'Veenker':25})\n",
    "test1['Condition1'] = test1['Condition1'].replace({'Artery':1,'Feedr':2, 'Norm':3, 'RRNn':4, 'RRAn':5, 'PosN':6,'PosA':7, 'RRNe':8, 'RRAe':9})\n",
    "test1['BldgType'] = test1['BldgType'].replace({'1Fam':1,'2FmCon':2, '2fmCon':2, 'Duplx':3, 'Duplex':3, 'TwnhsE':4, 'Twnhs':0, 'TwnhsI':5 })\n",
    "test1['Condition2'] = test1['Condition2'].replace({'Artery':1,'Feedr':2, 'Norm':3, 'RRNn':4, 'RRAn':5, 'PosN':6, 'PosA' : 7, 'RRNe':8, 'RRAe':9})\n",
    "test1['HouseStyle'] = test1['HouseStyle'].replace({'1Story':1,'1.5Fin': 2, '1.5Unf': 3, '2Story': 4,'2.5Fin': 5, '2.5Unf':6, 'SFoyer': 7, 'SLvl':8})\n",
    "test1['RoofStyle'] = test1['RoofStyle'].replace({'Flat':1,'Gable':2, 'Gambrel':3, 'Hip':4, 'Mansard':5, 'Shed':6})\n",
    "test1['RoofMatl'] = test1['RoofMatl'].replace({'ClyTile':1,'CompShg':2, 'Membran':3, 'Metal':4, 'Roll':5, 'Tar&Grv':6,'WdShake':7,'WdShngl':8})\n",
    "test1['Exterior1st'] = test1['Exterior1st'].replace({'AsbShng':1,'AsphShn':2, 'BrkComm':3, 'BrkFace':4, 'CBlock':5, 'CemntBd':6,'HdBoard':7,'ImStucc':8,'MetalSd':9,'Other':10, 'Plywood':11, 'PreCast':12,'Stone':13, 'Stucco':14, 'VinylSd':15, 'Wd Sdng':16, 'Wd Shng': 17, 'WdShing':17})\n",
    "test1['Exterior2nd'] = test1['Exterior2nd'].replace({'AsbShng':1,'AsphShn':2, 'BrkComm':3, 'Brk Cmn': 3, 'BrkFace':4, 'CBlock':5, 'CemntBd':6,'CmentBd':6 ,'HdBoard':7,'ImStucc':8,'MetalSd':9,'Other':10, 'Plywood':11, 'PreCast':12,'Stone':13, 'Stucco':14, 'VinylSd':15, 'Wd Sdng':16,'Wd Shng':17 , 'WdShing':17})\n",
    "test1['MasVnrType'] = test1['MasVnrType'].replace({'BrkCmn':1,'BrkFace':2,'CBlock':3, 'None':4,'Stone':5})\n",
    "test1['ExterQual'] = test1['ExterQual'].replace({'Ex':1,'Gd':2,'TA':3, 'Fa': 4, 'Po':5})\n",
    "test1['ExterCond'] = test1['ExterCond'].replace({'Ex':1,'Gd':2,'TA':3, 'Fa': 4, 'Po':5})\n",
    "test1['Foundation'] = test1['Foundation'].replace({'BrkTil':1, 'PConc':2, 'Slab':3, 'Wood':4, 'CBlock': 5, 'Stone': 6})\n",
    "test1['BsmtQual'] = test1['BsmtQual'].replace({'Ex':1,'Gd':2,'TA':3, 'Fa': 4, 'Po':5})\n",
    "test1['BsmtQual'] = test1['BsmtQual'].replace(np.nan,3)\n",
    "test1['BsmtCond'] = test1['BsmtCond'].replace({'Ex':1,'Gd':2,'TA':3, 'Fa': 4, 'Po':5})\n",
    "test1['BsmtCond'] = test1['BsmtCond'].replace(np.nan,6)\n",
    "test1['BsmtExposure'] = test1['BsmtExposure'].replace({'Gd':1,'Av':2, 'Mn':3, 'No':4})\n",
    "test1['BsmtExposure'] = test1['BsmtExposure'].replace(np.nan,5)\n",
    "test1['BsmtFinType1'] = test1['BsmtFinType1'].replace({'GLQ':1,'ALQ':2,'BLQ':3, 'Rec':4,'LwQ':5, 'Unf':6})\n",
    "test1['BsmtFinType1'] = test1['BsmtFinType1'].replace(np.nan,7)\n",
    "test1['BsmtFinType2'] = test1['BsmtFinType2'].replace({'GLQ':1,'ALQ':2,'BLQ':3, 'Rec':4,'LwQ':5, 'Unf':6})\n",
    "test1['BsmtFinType2'] = test1['BsmtFinType2'].replace(np.nan,7)\n",
    "test1['Heating'] = test1['Heating'].replace({'Floor':1,'GasA':2, 'GasW':3, 'Grav':4, 'OthW':5, 'Wall':6})\n",
    "test1['HeatingQC'] = test1['HeatingQC'].replace({'Ex':1,'Gd':2,'TA':3, 'Fa': 4, 'Po':5})\n",
    "test1['CentralAir'] = test1['CentralAir'].replace({'N':1, 'Y':2})\n",
    "test1['Electrical'] = test1['Electrical'].replace({'SBrkr':1,'FuseA':2,'FuseF':3, 'FuseP':4,'Mix':5})\n",
    "test1['KitchenQual'] = test1['KitchenQual'].replace({'Ex':1,'Gd':2,'TA':3, 'Fa': 4, 'Po':5})\n",
    "test1['Functional'] = test1['Functional'].replace({'Typ':1,'Min1':2, 'Min2': 3 , 'Mod': 4, 'Maj1': 5, 'Maj2': 6, 'Sev': 7, 'Sal':8})\n",
    "test1['FireplaceQu'] = test1['FireplaceQu'].replace({'Ex':1,'Gd':2,'TA':3, 'Fa': 4, 'Po':5})\n",
    "test1['FireplaceQu'] = test1['FireplaceQu'].replace(np.nan,6)\n",
    "test1['GarageType'] = test1['GarageType'].replace({'2Types':1, 'Attchd':2, 'Basment':3, 'BuiltIn' : 4, 'CarPort': 5, 'Detchd':6})\n",
    "test1['GarageType'] = test1['GarageType'].replace(np.nan,7)\n",
    "test1['GarageQual'] = test1['GarageQual'].replace({'Ex':1,'Gd':2,'TA':3, 'Fa': 4, 'Po':5})\n",
    "test1['GarageQual'] = test1['GarageQual'].replace(np.nan,6)\n",
    "test1['GarageFinish'] = test1['GarageFinish'].replace({'Fin':1, 'RFn': 2, 'Unf':3})\n",
    "test1['GarageFinish'] = test1['GarageFinish'].replace(np.nan,4)\n",
    "test1['GarageCond'] = test1['GarageCond'].replace({'Ex':1,'Gd':2,'TA':3, 'Fa': 4, 'Po':5})\n",
    "test1['GarageCond'] = test1['GarageCond'].replace(np.nan,6)\n",
    "test1['PavedDrive'] = test1['PavedDrive'].replace({'Y':1, 'P':2, 'N':3})\n",
    "test1['PoolQC'] = test1['PoolQC'].replace({'Ex':1,'Gd':2,'TA':3, 'Fa': 4})\n",
    "test1['PoolQC'] = test1['PoolQC'].replace(np.nan,5)\n",
    "test1['Fence'] = test1['Fence'].replace({'GdPrv':1,'MnPrv':2,'GdWo':3, 'MnWw':4})\n",
    "test1['Fence'] = test1['Fence'].replace(np.nan,5)\n",
    "test1['MiscFeature'] = test1['MiscFeature'].replace({'Elev':1, 'Gar2':2, 'Othr':3, 'Shed':4,'TenC':5})\n",
    "test1['MiscFeature'] = test1['MiscFeature'].replace(np.nan,6)\n",
    "test1['SaleType'] = test1['SaleType'].replace({ 'WD':1, 'CWD':2, 'VWD':3, 'New':4, 'COD':5, 'Con':5,'ConLw':6, 'ConLI':7, 'ConLD':8,'Oth':9})\n",
    "test1['SaleCondition'] = test1['SaleCondition'].replace({'Normal':1, 'Abnorml':2, 'AdjLand':3, 'Alloca':4, 'Family':5, 'Partial':6})\n",
    "test1['MasVnrType'] = test1['MasVnrType'].replace(np.nan,test1['MasVnrType'].mean())\n",
    "test1['MasVnrArea'] = test1['MasVnrArea'].replace(np.nan,test1['MasVnrArea'].mean())\n",
    "test1['Electrical'] = test1['Electrical'].replace(np.nan,test1['Electrical'].mean())\n",
    "test1['LotFrontage'] = test1['LotFrontage'].replace(np.nan,test1['LotFrontage'].mean())\n",
    "test1['GarageYrBlt'] = test1['GarageYrBlt'].replace(np.nan,test1['GarageYrBlt'].mean())\n",
    "test1['MSZoning'] = test1['MSZoning'].replace(np.nan,test1['MSZoning'].mean())\n",
    "test1['Utilities'] = test1['Utilities'].replace(np.nan,test1['Utilities'].mean())\n",
    "test1['Exterior1st'] = test1['Exterior1st'].replace(np.nan,test1['Exterior1st'].mean())\n",
    "test1['Exterior2nd'] = test1['Exterior2nd'].replace(np.nan,test1['Exterior2nd'].mean())\n",
    "test1['BsmtFinSF1'] = test1['BsmtFinSF1'].replace(np.nan,test1['BsmtFinSF1'].mean())\n",
    "test1['BsmtFinSF2'] = test1['BsmtFinSF2'].replace(np.nan,test1['BsmtFinSF2'].mean())\n",
    "test1['BsmtUnfSF'] = test1['BsmtUnfSF'].replace(np.nan,test1['BsmtUnfSF'].mean())\n",
    "test1['TotalBsmtSF'] = test1['TotalBsmtSF'].replace(np.nan,test1['TotalBsmtSF'].mean())\n",
    "test1['BsmtFullBath'] = test1['BsmtFullBath'].replace(np.nan,test1['BsmtFullBath'].mean())\n",
    "test1['BsmtHalfBath'] = test1['BsmtHalfBath'].replace(np.nan,test1['BsmtHalfBath'].mean())\n",
    "test1['KitchenQual'] = test1['KitchenQual'].replace(np.nan,test1['KitchenQual'].mean())\n",
    "test1['Functional'] = test1['Functional'].replace(np.nan,test1['Functional'].mean())\n",
    "test1['GarageCars'] = test1['GarageCars'].replace(np.nan,test1['GarageCars'].mean())\n",
    "test1['GarageArea'] = test1['GarageArea'].replace(np.nan,test1['GarageArea'].mean())\n",
    "test1['SaleType'] = test1['SaleType'].replace(np.nan,test1['SaleType'].mean())\n",
    "test1.info()\n",
    "test1.head()"
   ]
  },
  {
   "cell_type": "markdown",
   "metadata": {},
   "source": [
    "Aquí defino un nuevo DataFrame donde van a estar los datos mayor correlacionados del testing"
   ]
  },
  {
   "cell_type": "code",
   "execution_count": 359,
   "metadata": {},
   "outputs": [],
   "source": [
    "test2 = pd.DataFrame({'BsmtQual' : test1['BsmtQual'],'GarageArea':test1['GarageArea'],'stFlrSF':test1['stFlrSF'],'FullBath':test1['FullBath'],'TotRmsAbvGrd':test1['TotRmsAbvGrd'],'YearBuilt':test1['YearBuilt'],'YearRemodAdd':test1['YearRemodAdd'], 'GarageFinish': test1['GarageFinish'],'FireplaceQu': test1['FireplaceQu'], 'GarageCars' : test1['GarageCars'],'GrLivArea' : test1['GrLivArea'],'OverallQual' : test1['OverallQual'],'TotalBsmtSF':test1['TotalBsmtSF']})"
   ]
  },
  {
   "cell_type": "markdown",
   "metadata": {},
   "source": [
    "Aquí doy las predicciones de los precios de la casa según el ajuste lineal"
   ]
  },
  {
   "cell_type": "code",
   "execution_count": 362,
   "metadata": {},
   "outputs": [
    {
     "data": {
      "text/plain": [
       "array([109074.6210369 , 147426.31478392, 180908.77750887, ...,\n",
       "       156464.4017389 , 115192.89503018, 243143.43213598])"
      ]
     },
     "execution_count": 362,
     "metadata": {},
     "output_type": "execute_result"
    }
   ],
   "source": [
    "lineal.predict(test2)"
   ]
  },
  {
   "cell_type": "markdown",
   "metadata": {},
   "source": [
    "Aquí doy las predicciones de los precios de la casa según el ajuste lasso"
   ]
  },
  {
   "cell_type": "code",
   "execution_count": 363,
   "metadata": {},
   "outputs": [
    {
     "data": {
      "text/plain": [
       "array([109229.99822121, 147353.88279574, 181001.13445919, ...,\n",
       "       156098.34926292, 114889.16158118, 242895.39507079])"
      ]
     },
     "execution_count": 363,
     "metadata": {},
     "output_type": "execute_result"
    }
   ],
   "source": [
    "lasso_model.predict(test2)"
   ]
  },
  {
   "cell_type": "markdown",
   "metadata": {},
   "source": [
    "Aquí doy las predicciones de los precios de la casa según el ajuste ridge"
   ]
  },
  {
   "cell_type": "code",
   "execution_count": 365,
   "metadata": {},
   "outputs": [
    {
     "data": {
      "text/plain": [
       "array([109237.14111788, 147426.14162919, 180988.21433745, ...,\n",
       "       156530.49103508, 115117.13456211, 243081.69832281])"
      ]
     },
     "execution_count": 365,
     "metadata": {},
     "output_type": "execute_result"
    }
   ],
   "source": [
    "ridge_model.predict(test2)"
   ]
  },
  {
   "cell_type": "code",
   "execution_count": null,
   "metadata": {},
   "outputs": [],
   "source": []
  }
 ],
 "metadata": {
  "kernelspec": {
   "display_name": "Python 3",
   "language": "python",
   "name": "python3"
  },
  "language_info": {
   "codemirror_mode": {
    "name": "ipython",
    "version": 3
   },
   "file_extension": ".py",
   "mimetype": "text/x-python",
   "name": "python",
   "nbconvert_exporter": "python",
   "pygments_lexer": "ipython3",
   "version": "3.8.5"
  }
 },
 "nbformat": 4,
 "nbformat_minor": 4
}
