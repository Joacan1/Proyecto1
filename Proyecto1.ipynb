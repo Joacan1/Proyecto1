{
 "cells": [
  {
   "cell_type": "markdown",
   "metadata": {},
   "source": [
    "# Predicción de los costos de Casas\n",
    "## Joaquín Antonio Ramírez Hernández"
   ]
  },
  {
   "cell_type": "code",
   "execution_count": 146,
   "metadata": {},
   "outputs": [],
   "source": [
    "from scipy import stats\n",
    "import numpy as np\n",
    "import pandas as pd \n",
    "import matplotlib\n",
    "import matplotlib.pyplot as plt\n",
    "import math\n",
    "from sklearn.linear_model import Lasso \n",
    "from sklearn.linear_model import Ridge\n",
    "from sklearn.linear_model import LinearRegression"
   ]
  },
  {
   "cell_type": "markdown",
   "metadata": {},
   "source": [
    "## 1.-Lectura y traducción de datos"
   ]
  },
  {
   "cell_type": "markdown",
   "metadata": {},
   "source": [
    "### Datos de Training"
   ]
  },
  {
   "cell_type": "code",
   "execution_count": 371,
   "metadata": {},
   "outputs": [],
   "source": [
    "train1 = pd.read_csv(\"./house-prices-advanced-regression-techniques/train.csv\")\n",
    "train1.fillna(0,inplace=True)\n",
    "train1 = train1.replace({'A':float(0),'C (all)':float(1), 'FV':float(2), 'I':float(3),'RH':float(4),'RL':float(5),'RP':float(6),'RM':float(7), 'Grvl':1,'Pave':2})\n",
    "train1 = train1.replace({'Reg':1, 'IR1':2, 'IR2':3, 'IR3':4,'Lvl':1, 'Bnk':2, 'HLS':3, 'Low':4})\n",
    "train1 = train1.replace({'AllPub':1, 'NoSewr':2, 'NoSeWa':3, 'ELO':4, 'Inside':1 , 'Corner':2, 'CulDSac':3, 'FR2': 4,'FR3':5})\n",
    "train1 = train1.replace({'Gtl':1, 'Mod':2, 'Sev':3, 'Blmngtn':1, 'Blueste':2, 'BrDale':3, 'BrkSide':4,'ClearCr':5, 'CollgCr':6, 'Crawfor':7,'Edwards':8,'Gilbert':9,'IDOTRR':10, 'MeadowV':11,\t'Mitchel':12, 'Names':13, 'NoRidge':14, 'NPkVill':15, 'NridgHt':16, 'NWAmes':17, 'NAmes':17, 'OldTown':18, 'SWISU':19, 'Sawyer':20, 'SawyerW':21, 'Somerst':22,'StoneBr':23, 'Timber':24, 'Veenker':25})\n",
    "train1 = train1.replace({'Artery':1,'Feedr':2, 'Norm':3, 'RRNn':4, 'RRAn':5, 'PosN':6,'RRNe':7, 'RRAe':8, '1Fam':1,'2FmCon':2, 'Duplx':3, 'TwhsE':4, 'TwnhsI':5})\n",
    "train1 = train1.replace({'Flat':1,'Gable':2, 'Gambrel':3, 'Hip':4, 'Mansard':5, 'Shed':6})\n",
    "train1 = train1.replace({'ClyTile':1,'CompShg':2, 'Membran':3, 'Metal':4, 'Roll':5, 'Tar&Grv':6,'WdShake':7,'WdShngl':8})\n",
    "train1 = train1.replace({'AsbShng':1,'AsphShn':2, 'BrkComm':3, 'BrkFace':4, 'CBlock':5, 'CemntBd':6,'HdBoard':7,'ImStucc':8,'MetalSd':9,'Other':10, 'Plywood':11, 'PreCast':12, 'Stucco':14, 'VinylSd':15, 'Wd Sdng':16, 'WdShing':17})\n",
    "train1 = train1.replace({'BrkCmn':1,'BrkFace':2, 'None':4})\n",
    "train1 = train1.replace({'Ex':1,'Gd':2,' TA':3, 'Fa':4, 'Po':5 })\n",
    "train1 = train1.replace({'BrkTil':1, 'PConc':2, 'Slab':3, 'Wood':4})\n",
    "train1 = train1.replace({'Av':1, 'Mn':2, 'No':3})\n",
    "train1 = train1.replace({'GLQ':1,'ALQ':2,'BLQ':3, 'Rec':4,'LwQ':5, 'Unf':6 })\n",
    "train1 = train1.replace({'Floor':1,'GasA':2, 'GasW':3, 'Grav':4, 'OthW':5, 'Wall':6,'N':1, 'Y':2, 'P':3, 'SBrkr':1,'FuseA':2,'FuseF':3, 'FuseP':4,'Mix':5})\n",
    "train1 = train1.replace({'Typ':1,'Min1':3, 'Min2': 4 , 'Maj1': 5, 'Maj2': 6, 'Sev': 7, 'Sal':8})\n",
    "train1 = train1.replace({'2Types':1, 'Attchd':2, 'Basment':3,'CarPort': 4, 'Detchd':5})\n",
    "train1 = train1.replace({'Fin':1, 'RFn':2, 'Unf':3})\n",
    "train1 = train1.replace({'GdPrv':1,'MnPrv':2,'GdWo':3, 'MnWw':4})\n",
    "train1 = train1.replace({'Elev':1, 'Gar2':2, 'Othr':3, 'Shed':4,'TenC':5})\n",
    "train1 = train1.replace({'WD':1, 'CWD':2, 'VWD':3, 'New':4, 'COD':5, 'Con':5,'ConLw':6, 'ConLI':7, 'ConLD':8,'Oth':9})\n",
    "train1 = train1.replace({'Normal':1, 'Abnorml':2, 'AdjLand':3, 'Alloca':4, 'Family':5, 'Partial':6})"
   ]
  },
  {
   "cell_type": "markdown",
   "metadata": {},
   "source": [
    "### Datos de Testing"
   ]
  },
  {
   "cell_type": "code",
   "execution_count": 372,
   "metadata": {},
   "outputs": [],
   "source": [
    "test1 = pd.read_csv(\"./house-prices-advanced-regression-techniques/test.csv\")\n",
    "test1.fillna(0,inplace=True)\n",
    "test1 = test1.replace({'A':float(0),'C (all)':float(1), 'FV':float(2), 'I':float(3),'RH':float(4),'RL':float(5),'RP':float(6),'RM':float(7), 'Grvl':1,'Pave':2})\n",
    "test1 = test1.replace({'Reg':1, 'IR1':2, 'IR2':3, 'IR3':4,'Lvl':1, 'Bnk':2, 'HLS':3, 'Low':4})\n",
    "test1 = test1.replace({'AllPub':1, 'NoSewr':2, 'NoSeWa':3, 'ELO':4, 'Inside':1 , 'Corner':2, 'CulDSac':3, 'FR2': 4,'FR3':5})\n",
    "test1 = test1.replace({'Gtl':1, 'Mod':2, 'Sev':3, 'Blmngtn':1, 'Blueste':2, 'BrDale':3, 'BrkSide':4,'ClearCr':5, 'CollgCr':6, 'Crawfor':7,'Edwards':8,'Gilbert':9,'IDOTRR':10, 'MeadowV':11,\t'Mitchel':12, 'Names':13, 'NoRidge':14, 'NPkVill':15, 'NridgHt':16, 'NWAmes':17, 'NAmes':17, 'OldTown':18, 'SWISU':19, 'Sawyer':20, 'SawyerW':21, 'Somerst':22,'StoneBr':23, 'Timber':24, 'Veenker':25})\n",
    "test1 = test1.replace({'Artery':1,'Feedr':2, 'Norm':3, 'RRNn':4, 'RRAn':5, 'PosN':6,'RRNe':7, 'RRAe':8, '1Fam':1,'2FmCon':2, 'Duplx':3, 'TwhsE':4, 'TwnhsI':5})\n",
    "test1 = test1.replace({'Flat':1,'Gable':2, 'Gambrel':3, 'Hip':4, 'Mansard':5, 'Shed':6})\n",
    "test1 = test1.replace({'ClyTile':1,'CompShg':2, 'Membran':3, 'Metal':4, 'Roll':5, 'Tar&Grv':6,'WdShake':7,'WdShngl':8})\n",
    "test1 = test1.replace({'AsbShng':1,'AsphShn':2, 'BrkComm':3, 'BrkFace':4, 'CBlock':5, 'CemntBd':6,'HdBoard':7,'ImStucc':8,'MetalSd':9,'Other':10, 'Plywood':11, 'PreCast':12, 'Stucco':14, 'VinylSd':15, 'Wd Sdng':16, 'WdShing':17})\n",
    "test1 = test1.replace({'BrkCmn':1,'BrkFace':2, 'None':4})\n",
    "test1 = test1.replace({'Ex':1,'Gd':2,' TA':3, 'Fa':4, 'Po':5 })\n",
    "test1 = test1.replace({'BrkTil':1, 'PConc':2, 'Slab':3, 'Wood':4})\n",
    "test1 = test1.replace({'Av':1, 'Mn':2, 'No':3})\n",
    "test1 = test1.replace({'GLQ':1,'ALQ':2,'BLQ':3, 'Rec':4,'LwQ':5, 'Unf':6 })\n",
    "test1 = test1.replace({'Floor':1,'GasA':2, 'GasW':3, 'Grav':4, 'OthW':5, 'Wall':6,'N':1, 'Y':2, 'P':3, 'SBrkr':1,'FuseA':2,'FuseF':3, 'FuseP':4,'Mix':5})\n",
    "test1 = test1.replace({'Typ':1,'Min1':3, 'Min2': 4 , 'Maj1': 5, 'Maj2': 6, 'Sev': 7, 'Sal':8})\n",
    "test1 = test1.replace({'2Types':1, 'Attchd':2, 'Basment':3,'CarPort': 4, 'Detchd':5})\n",
    "test1 = test1.replace({'Fin':1, 'RFn':2, 'Unf':3})\n",
    "test1 = test1.replace({'GdPrv':1,'MnPrv':2,'GdWo':3, 'MnWw':4})\n",
    "test1 = test1.replace({'Elev':1, 'Gar2':2, 'Othr':3, 'Shed':4,'TenC':5})\n",
    "test1 = test1.replace({'WD':1, 'CWD':2, 'VWD':3, 'New':4, 'COD':5, 'Con':5,'ConLw':6, 'ConLI':7, 'ConLD':8,'Oth':9})\n",
    "test1 = test1.replace({'Normal':1, 'Abnorml':2, 'AdjLand':3, 'Alloca':4, 'Family':5, 'Partial':6})\n"
   ]
  },
  {
   "cell_type": "code",
   "execution_count": 748,
   "metadata": {},
   "outputs": [],
   "source": [
    "train = pd.DataFrame(data={'x1':train1.SalePrice.to_numpy(),'x2':train1.OverallQual.to_numpy(),'x3':train1.YearBuilt.to_numpy(), 'x4':train1.YearRemodAdd.to_numpy(),'x5':train1.TotalBsmtSF.to_numpy(),'x6':train1.GrLivArea.to_numpy(), 'x7':train1.FullBath.to_numpy(),'x8':train1.TotRmsAbvGrd.to_numpy(),'x9':train1.GarageCars.to_numpy(),'x10': train1.GarageArea.to_numpy()})"
   ]
  },
  {
   "cell_type": "code",
   "execution_count": 749,
   "metadata": {},
   "outputs": [
    {
     "data": {
      "text/html": [
       "<div>\n",
       "<style scoped>\n",
       "    .dataframe tbody tr th:only-of-type {\n",
       "        vertical-align: middle;\n",
       "    }\n",
       "\n",
       "    .dataframe tbody tr th {\n",
       "        vertical-align: top;\n",
       "    }\n",
       "\n",
       "    .dataframe thead th {\n",
       "        text-align: right;\n",
       "    }\n",
       "</style>\n",
       "<table border=\"1\" class=\"dataframe\">\n",
       "  <thead>\n",
       "    <tr style=\"text-align: right;\">\n",
       "      <th></th>\n",
       "      <th>x1</th>\n",
       "      <th>x2</th>\n",
       "      <th>x3</th>\n",
       "      <th>x4</th>\n",
       "      <th>x5</th>\n",
       "      <th>x6</th>\n",
       "      <th>x7</th>\n",
       "      <th>x8</th>\n",
       "      <th>x9</th>\n",
       "      <th>x10</th>\n",
       "    </tr>\n",
       "  </thead>\n",
       "  <tbody>\n",
       "    <tr>\n",
       "      <th>x1</th>\n",
       "      <td>1.000000</td>\n",
       "      <td>0.790982</td>\n",
       "      <td>0.522897</td>\n",
       "      <td>0.507101</td>\n",
       "      <td>0.613581</td>\n",
       "      <td>0.708624</td>\n",
       "      <td>0.560664</td>\n",
       "      <td>0.533723</td>\n",
       "      <td>0.640409</td>\n",
       "      <td>0.623431</td>\n",
       "    </tr>\n",
       "    <tr>\n",
       "      <th>x2</th>\n",
       "      <td>0.790982</td>\n",
       "      <td>1.000000</td>\n",
       "      <td>0.572323</td>\n",
       "      <td>0.550684</td>\n",
       "      <td>0.537808</td>\n",
       "      <td>0.593007</td>\n",
       "      <td>0.550600</td>\n",
       "      <td>0.427452</td>\n",
       "      <td>0.600671</td>\n",
       "      <td>0.562022</td>\n",
       "    </tr>\n",
       "    <tr>\n",
       "      <th>x3</th>\n",
       "      <td>0.522897</td>\n",
       "      <td>0.572323</td>\n",
       "      <td>1.000000</td>\n",
       "      <td>0.592855</td>\n",
       "      <td>0.391452</td>\n",
       "      <td>0.199010</td>\n",
       "      <td>0.468271</td>\n",
       "      <td>0.095589</td>\n",
       "      <td>0.537850</td>\n",
       "      <td>0.478954</td>\n",
       "    </tr>\n",
       "    <tr>\n",
       "      <th>x4</th>\n",
       "      <td>0.507101</td>\n",
       "      <td>0.550684</td>\n",
       "      <td>0.592855</td>\n",
       "      <td>1.000000</td>\n",
       "      <td>0.291066</td>\n",
       "      <td>0.287389</td>\n",
       "      <td>0.439046</td>\n",
       "      <td>0.191740</td>\n",
       "      <td>0.420622</td>\n",
       "      <td>0.371600</td>\n",
       "    </tr>\n",
       "    <tr>\n",
       "      <th>x5</th>\n",
       "      <td>0.613581</td>\n",
       "      <td>0.537808</td>\n",
       "      <td>0.391452</td>\n",
       "      <td>0.291066</td>\n",
       "      <td>1.000000</td>\n",
       "      <td>0.454868</td>\n",
       "      <td>0.323722</td>\n",
       "      <td>0.285573</td>\n",
       "      <td>0.434585</td>\n",
       "      <td>0.486665</td>\n",
       "    </tr>\n",
       "    <tr>\n",
       "      <th>x6</th>\n",
       "      <td>0.708624</td>\n",
       "      <td>0.593007</td>\n",
       "      <td>0.199010</td>\n",
       "      <td>0.287389</td>\n",
       "      <td>0.454868</td>\n",
       "      <td>1.000000</td>\n",
       "      <td>0.630012</td>\n",
       "      <td>0.825489</td>\n",
       "      <td>0.467247</td>\n",
       "      <td>0.468997</td>\n",
       "    </tr>\n",
       "    <tr>\n",
       "      <th>x7</th>\n",
       "      <td>0.560664</td>\n",
       "      <td>0.550600</td>\n",
       "      <td>0.468271</td>\n",
       "      <td>0.439046</td>\n",
       "      <td>0.323722</td>\n",
       "      <td>0.630012</td>\n",
       "      <td>1.000000</td>\n",
       "      <td>0.554784</td>\n",
       "      <td>0.469672</td>\n",
       "      <td>0.405656</td>\n",
       "    </tr>\n",
       "    <tr>\n",
       "      <th>x8</th>\n",
       "      <td>0.533723</td>\n",
       "      <td>0.427452</td>\n",
       "      <td>0.095589</td>\n",
       "      <td>0.191740</td>\n",
       "      <td>0.285573</td>\n",
       "      <td>0.825489</td>\n",
       "      <td>0.554784</td>\n",
       "      <td>1.000000</td>\n",
       "      <td>0.362289</td>\n",
       "      <td>0.337822</td>\n",
       "    </tr>\n",
       "    <tr>\n",
       "      <th>x9</th>\n",
       "      <td>0.640409</td>\n",
       "      <td>0.600671</td>\n",
       "      <td>0.537850</td>\n",
       "      <td>0.420622</td>\n",
       "      <td>0.434585</td>\n",
       "      <td>0.467247</td>\n",
       "      <td>0.469672</td>\n",
       "      <td>0.362289</td>\n",
       "      <td>1.000000</td>\n",
       "      <td>0.882475</td>\n",
       "    </tr>\n",
       "    <tr>\n",
       "      <th>x10</th>\n",
       "      <td>0.623431</td>\n",
       "      <td>0.562022</td>\n",
       "      <td>0.478954</td>\n",
       "      <td>0.371600</td>\n",
       "      <td>0.486665</td>\n",
       "      <td>0.468997</td>\n",
       "      <td>0.405656</td>\n",
       "      <td>0.337822</td>\n",
       "      <td>0.882475</td>\n",
       "      <td>1.000000</td>\n",
       "    </tr>\n",
       "  </tbody>\n",
       "</table>\n",
       "</div>"
      ],
      "text/plain": [
       "           x1        x2        x3        x4        x5        x6        x7  \\\n",
       "x1   1.000000  0.790982  0.522897  0.507101  0.613581  0.708624  0.560664   \n",
       "x2   0.790982  1.000000  0.572323  0.550684  0.537808  0.593007  0.550600   \n",
       "x3   0.522897  0.572323  1.000000  0.592855  0.391452  0.199010  0.468271   \n",
       "x4   0.507101  0.550684  0.592855  1.000000  0.291066  0.287389  0.439046   \n",
       "x5   0.613581  0.537808  0.391452  0.291066  1.000000  0.454868  0.323722   \n",
       "x6   0.708624  0.593007  0.199010  0.287389  0.454868  1.000000  0.630012   \n",
       "x7   0.560664  0.550600  0.468271  0.439046  0.323722  0.630012  1.000000   \n",
       "x8   0.533723  0.427452  0.095589  0.191740  0.285573  0.825489  0.554784   \n",
       "x9   0.640409  0.600671  0.537850  0.420622  0.434585  0.467247  0.469672   \n",
       "x10  0.623431  0.562022  0.478954  0.371600  0.486665  0.468997  0.405656   \n",
       "\n",
       "           x8        x9       x10  \n",
       "x1   0.533723  0.640409  0.623431  \n",
       "x2   0.427452  0.600671  0.562022  \n",
       "x3   0.095589  0.537850  0.478954  \n",
       "x4   0.191740  0.420622  0.371600  \n",
       "x5   0.285573  0.434585  0.486665  \n",
       "x6   0.825489  0.467247  0.468997  \n",
       "x7   0.554784  0.469672  0.405656  \n",
       "x8   1.000000  0.362289  0.337822  \n",
       "x9   0.362289  1.000000  0.882475  \n",
       "x10  0.337822  0.882475  1.000000  "
      ]
     },
     "execution_count": 749,
     "metadata": {},
     "output_type": "execute_result"
    }
   ],
   "source": [
    "corr = train.corr()\n",
    "corr"
   ]
  },
  {
   "cell_type": "code",
   "execution_count": 750,
   "metadata": {},
   "outputs": [],
   "source": [
    "train2 = pd.DataFrame(data={'x2':train1.OverallQual.to_numpy(),'x3':train1.YearBuilt.to_numpy(),'x4':train1.TotalBsmtSF.to_numpy(),'x5':train1.GrLivArea.to_numpy(), 'x6':train1.FullBath.to_numpy(),'x7':train1.TotRmsAbvGrd.to_numpy(),'x8':train1.GarageCars.to_numpy(),'x9': train1.GarageArea.to_numpy()})#\n",
    "train2 = train2.drop(1459, axis=0)\n",
    "train2\n",
    "train = train.drop(1459, axis=0)"
   ]
  },
  {
   "cell_type": "code",
   "execution_count": 751,
   "metadata": {},
   "outputs": [],
   "source": [
    "test = pd.DataFrame(data={'x2':test1.OverallQual.to_numpy(),'x3':test1.YearBuilt.to_numpy(),'x4':test1.TotalBsmtSF.to_numpy(),'x5':test1.GrLivArea.to_numpy(), 'x6':test1.FullBath.to_numpy(),'x7':test1.TotRmsAbvGrd.to_numpy(),'x8':test1.GarageCars.to_numpy(),'x9': test1.GarageArea.to_numpy()})#"
   ]
  },
  {
   "cell_type": "code",
   "execution_count": 752,
   "metadata": {},
   "outputs": [
    {
     "data": {
      "text/html": [
       "<div>\n",
       "<style scoped>\n",
       "    .dataframe tbody tr th:only-of-type {\n",
       "        vertical-align: middle;\n",
       "    }\n",
       "\n",
       "    .dataframe tbody tr th {\n",
       "        vertical-align: top;\n",
       "    }\n",
       "\n",
       "    .dataframe thead th {\n",
       "        text-align: right;\n",
       "    }\n",
       "</style>\n",
       "<table border=\"1\" class=\"dataframe\">\n",
       "  <thead>\n",
       "    <tr style=\"text-align: right;\">\n",
       "      <th></th>\n",
       "      <th>x2</th>\n",
       "      <th>x3</th>\n",
       "      <th>x4</th>\n",
       "      <th>x5</th>\n",
       "      <th>x6</th>\n",
       "      <th>x7</th>\n",
       "      <th>x8</th>\n",
       "      <th>x9</th>\n",
       "    </tr>\n",
       "  </thead>\n",
       "  <tbody>\n",
       "    <tr>\n",
       "      <th>0</th>\n",
       "      <td>5</td>\n",
       "      <td>1961</td>\n",
       "      <td>882.0</td>\n",
       "      <td>896</td>\n",
       "      <td>1</td>\n",
       "      <td>5</td>\n",
       "      <td>1.0</td>\n",
       "      <td>730.0</td>\n",
       "    </tr>\n",
       "    <tr>\n",
       "      <th>1</th>\n",
       "      <td>6</td>\n",
       "      <td>1958</td>\n",
       "      <td>1329.0</td>\n",
       "      <td>1329</td>\n",
       "      <td>1</td>\n",
       "      <td>6</td>\n",
       "      <td>1.0</td>\n",
       "      <td>312.0</td>\n",
       "    </tr>\n",
       "    <tr>\n",
       "      <th>2</th>\n",
       "      <td>5</td>\n",
       "      <td>1997</td>\n",
       "      <td>928.0</td>\n",
       "      <td>1629</td>\n",
       "      <td>2</td>\n",
       "      <td>6</td>\n",
       "      <td>2.0</td>\n",
       "      <td>482.0</td>\n",
       "    </tr>\n",
       "    <tr>\n",
       "      <th>3</th>\n",
       "      <td>6</td>\n",
       "      <td>1998</td>\n",
       "      <td>926.0</td>\n",
       "      <td>1604</td>\n",
       "      <td>2</td>\n",
       "      <td>7</td>\n",
       "      <td>2.0</td>\n",
       "      <td>470.0</td>\n",
       "    </tr>\n",
       "    <tr>\n",
       "      <th>4</th>\n",
       "      <td>8</td>\n",
       "      <td>1992</td>\n",
       "      <td>1280.0</td>\n",
       "      <td>1280</td>\n",
       "      <td>2</td>\n",
       "      <td>5</td>\n",
       "      <td>2.0</td>\n",
       "      <td>506.0</td>\n",
       "    </tr>\n",
       "    <tr>\n",
       "      <th>...</th>\n",
       "      <td>...</td>\n",
       "      <td>...</td>\n",
       "      <td>...</td>\n",
       "      <td>...</td>\n",
       "      <td>...</td>\n",
       "      <td>...</td>\n",
       "      <td>...</td>\n",
       "      <td>...</td>\n",
       "    </tr>\n",
       "    <tr>\n",
       "      <th>1454</th>\n",
       "      <td>4</td>\n",
       "      <td>1970</td>\n",
       "      <td>546.0</td>\n",
       "      <td>1092</td>\n",
       "      <td>1</td>\n",
       "      <td>5</td>\n",
       "      <td>0.0</td>\n",
       "      <td>0.0</td>\n",
       "    </tr>\n",
       "    <tr>\n",
       "      <th>1455</th>\n",
       "      <td>4</td>\n",
       "      <td>1970</td>\n",
       "      <td>546.0</td>\n",
       "      <td>1092</td>\n",
       "      <td>1</td>\n",
       "      <td>6</td>\n",
       "      <td>1.0</td>\n",
       "      <td>286.0</td>\n",
       "    </tr>\n",
       "    <tr>\n",
       "      <th>1456</th>\n",
       "      <td>5</td>\n",
       "      <td>1960</td>\n",
       "      <td>1224.0</td>\n",
       "      <td>1224</td>\n",
       "      <td>1</td>\n",
       "      <td>7</td>\n",
       "      <td>2.0</td>\n",
       "      <td>576.0</td>\n",
       "    </tr>\n",
       "    <tr>\n",
       "      <th>1457</th>\n",
       "      <td>5</td>\n",
       "      <td>1992</td>\n",
       "      <td>912.0</td>\n",
       "      <td>970</td>\n",
       "      <td>1</td>\n",
       "      <td>6</td>\n",
       "      <td>0.0</td>\n",
       "      <td>0.0</td>\n",
       "    </tr>\n",
       "    <tr>\n",
       "      <th>1458</th>\n",
       "      <td>7</td>\n",
       "      <td>1993</td>\n",
       "      <td>996.0</td>\n",
       "      <td>2000</td>\n",
       "      <td>2</td>\n",
       "      <td>9</td>\n",
       "      <td>3.0</td>\n",
       "      <td>650.0</td>\n",
       "    </tr>\n",
       "  </tbody>\n",
       "</table>\n",
       "<p>1459 rows × 8 columns</p>\n",
       "</div>"
      ],
      "text/plain": [
       "      x2    x3      x4    x5  x6  x7   x8     x9\n",
       "0      5  1961   882.0   896   1   5  1.0  730.0\n",
       "1      6  1958  1329.0  1329   1   6  1.0  312.0\n",
       "2      5  1997   928.0  1629   2   6  2.0  482.0\n",
       "3      6  1998   926.0  1604   2   7  2.0  470.0\n",
       "4      8  1992  1280.0  1280   2   5  2.0  506.0\n",
       "...   ..   ...     ...   ...  ..  ..  ...    ...\n",
       "1454   4  1970   546.0  1092   1   5  0.0    0.0\n",
       "1455   4  1970   546.0  1092   1   6  1.0  286.0\n",
       "1456   5  1960  1224.0  1224   1   7  2.0  576.0\n",
       "1457   5  1992   912.0   970   1   6  0.0    0.0\n",
       "1458   7  1993   996.0  2000   2   9  3.0  650.0\n",
       "\n",
       "[1459 rows x 8 columns]"
      ]
     },
     "execution_count": 752,
     "metadata": {},
     "output_type": "execute_result"
    }
   ],
   "source": [
    "test"
   ]
  },
  {
   "cell_type": "markdown",
   "metadata": {},
   "source": [
    "### Definición de mi función f"
   ]
  },
  {
   "cell_type": "code",
   "execution_count": 1069,
   "metadata": {},
   "outputs": [],
   "source": [
    "def f(x):\n",
    "    return pd.DataFrame(.79*x.x2+.70*x.x5+.62*x.x9**2)"
   ]
  },
  {
   "cell_type": "markdown",
   "metadata": {},
   "source": [
    "### Regresión lineal"
   ]
  },
  {
   "cell_type": "code",
   "execution_count": 1070,
   "metadata": {},
   "outputs": [
    {
     "data": {
      "text/plain": [
       "array([[ 1.73635538e+03, -9.46749074e+01,  1.69681765e+01,\n",
       "         3.82198481e+00, -2.25390463e+03,  3.36035984e+03,\n",
       "        -5.74133197e+04,  7.60649156e+02]])"
      ]
     },
     "execution_count": 1070,
     "metadata": {},
     "output_type": "execute_result"
    }
   ],
   "source": [
    "linear_model = LinearRegression(normalize=False)\n",
    "linear_model.fit(train2,f(train2))\n",
    "linear_model.coef_"
   ]
  },
  {
   "cell_type": "code",
   "execution_count": 1071,
   "metadata": {},
   "outputs": [],
   "source": [
    "linear_model.predict(test)"
   ]
  },
  {
   "cell_type": "markdown",
   "metadata": {},
   "source": [
    "### Regresión Lasso"
   ]
  },
  {
   "cell_type": "code",
   "execution_count": 1074,
   "metadata": {},
   "outputs": [
    {
     "data": {
      "text/plain": [
       "Lasso(alpha=1.5, max_iter=1000000.0, normalize=True)"
      ]
     },
     "execution_count": 1074,
     "metadata": {},
     "output_type": "execute_result"
    }
   ],
   "source": [
    "lasso_model = Lasso(alpha=1.5,normalize=True, max_iter=1e6)\n",
    "lasso_model.fit(train2,f(train2))"
   ]
  },
  {
   "cell_type": "code",
   "execution_count": 1075,
   "metadata": {},
   "outputs": [
    {
     "data": {
      "text/plain": [
       "array([396516.89211508,  93917.04002045, 153207.12853951, ...,\n",
       "       236741.469281  , -99246.24718308, 239991.65854116])"
      ]
     },
     "execution_count": 1075,
     "metadata": {},
     "output_type": "execute_result"
    }
   ],
   "source": [
    "lasso_model.predict(test)"
   ]
  },
  {
   "cell_type": "code",
   "execution_count": null,
   "metadata": {},
   "outputs": [],
   "source": []
  }
 ],
 "metadata": {
  "kernelspec": {
   "display_name": "Python 3",
   "language": "python",
   "name": "python3"
  },
  "language_info": {
   "codemirror_mode": {
    "name": "ipython",
    "version": 3
   },
   "file_extension": ".py",
   "mimetype": "text/x-python",
   "name": "python",
   "nbconvert_exporter": "python",
   "pygments_lexer": "ipython3",
   "version": "3.8.5"
  }
 },
 "nbformat": 4,
 "nbformat_minor": 4
}
